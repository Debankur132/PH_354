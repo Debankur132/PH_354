{
  "nbformat": 4,
  "nbformat_minor": 0,
  "metadata": {
    "colab": {
      "provenance": [],
      "authorship_tag": "ABX9TyNyVKqupuL0xAqqlgC80uXs",
      "include_colab_link": true
    },
    "kernelspec": {
      "name": "python3",
      "display_name": "Python 3"
    },
    "language_info": {
      "name": "python"
    }
  },
  "cells": [
    {
      "cell_type": "markdown",
      "metadata": {
        "id": "view-in-github",
        "colab_type": "text"
      },
      "source": [
        "<a href=\"https://colab.research.google.com/github/Debankur132/PH_354/blob/main/PH_354.ipynb\" target=\"_parent\"><img src=\"https://colab.research.google.com/assets/colab-badge.svg\" alt=\"Open In Colab\"/></a>"
      ]
    },
    {
      "cell_type": "markdown",
      "source": [
        "# COMPUTATIONAL PHYSICS: PH 354"
      ],
      "metadata": {
        "id": "Zd_sHuIJh0nD"
      }
    },
    {
      "cell_type": "markdown",
      "source": [
        "**Exercise 1: Altitude of a satellite**"
      ],
      "metadata": {
        "id": "PvZe_141iG9y"
      }
    },
    {
      "cell_type": "code",
      "source": [
        "T=int(input(\"Enter the time in secocnds: \")) #to get the value of Time period\n",
        "import math\n",
        "def x(t):\n",
        "  G=6.67*10**(-11)\n",
        "  M=5.97*10**24\n",
        "  return ((2*G*M*t**2)/(4*math.pi**2))**(1/3)\n",
        "print(\"The height of the satelite from the surface of the earth is: %.3f\"%x(T),\" m \")\n"
      ],
      "metadata": {
        "colab": {
          "base_uri": "https://localhost:8080/"
        },
        "id": "-c5ihblViYj-",
        "outputId": "603726e9-3433-4d94-acf7-55ee5dbc8d68"
      },
      "execution_count": 7,
      "outputs": [
        {
          "output_type": "stream",
          "name": "stdout",
          "text": [
            "Enter the time in secocnds: 5400\n",
            "The height of the satelite from the surface of the earth is: 8378880.204  m \n"
          ]
        }
      ]
    },
    {
      "cell_type": "markdown",
      "source": [
        "**Exercise 2: Cartesian to Polar conversion**"
      ],
      "metadata": {
        "id": "zuNmgSFsVhK-"
      }
    },
    {
      "cell_type": "code",
      "source": [
        "import numpy as np\n",
        "import math\n",
        "x=int(input(\"Enter the value of x: \"))\n",
        "y=int(input(\"Enter the value of y:\"))\n",
        "def conv(x1,y1):\n",
        "  r=math.atanhsqrt(x1**2+y1**2)\n",
        "  theta1=np.arctan(y/x)\n",
        "  theta=(180/math.pi)*theta1\n",
        "  return r,theta\n",
        "print(\"The value of r and theta are :\",conv(x,y))"
      ],
      "metadata": {
        "colab": {
          "base_uri": "https://localhost:8080/"
        },
        "id": "6rZZxwOTV2Ye",
        "outputId": "83e2a71a-0c70-437c-d906-370fcf1d9b86"
      },
      "execution_count": 10,
      "outputs": [
        {
          "output_type": "stream",
          "name": "stdout",
          "text": [
            "Enter the value of x: 1\n",
            "Enter the value of y:1\n",
            "The value of r and theta are : (1.4142135623730951, 45.0)\n"
          ]
        }
      ]
    },
    {
      "cell_type": "markdown",
      "source": [
        "**Exercise 3: Quantum Potential Step**"
      ],
      "metadata": {
        "id": "Xn0CGQVWXfQm"
      }
    },
    {
      "cell_type": "code",
      "source": [],
      "metadata": {
        "id": "IAa8rdpFXoGz"
      },
      "execution_count": null,
      "outputs": []
    }
  ]
}